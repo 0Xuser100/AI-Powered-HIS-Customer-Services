{
 "cells": [
  {
   "cell_type": "code",
   "execution_count": 1,
   "metadata": {},
   "outputs": [
    {
     "name": "stdout",
     "output_type": "stream",
     "text": [
      "0       Dr. Alice Smith\n",
      "1        Dr. John Brown\n",
      "2         Dr. Sarah Lee\n",
      "3       Dr. Michael Tan\n",
      "4       Dr. Emily Davis\n",
      "5      Dr. James Wilson\n",
      "6      Dr. Linda Carter\n",
      "7      Dr. David Miller\n",
      "8       Dr. Karen White\n",
      "9      Dr. Thomas Green\n",
      "10      Dr. Susan Baker\n",
      "11     Dr. Robert Black\n",
      "12      Dr. Nancy Moore\n",
      "13    Dr. William Clark\n",
      "14       Dr. Mary Scott\n",
      "15      Dr. Kevin Lewis\n",
      "16     Dr. Barbara Hall\n",
      "17     Dr. Richard King\n",
      "18    Dr. Jessica Adams\n",
      "19     Dr. Charles Bell\n",
      "20     Dr. Angela Lopez\n",
      "21     Dr. Frank Turner\n",
      "22     Dr. Rachel Perez\n",
      "23    Dr. Steven Harris\n",
      "24      Dr. Megan Evans\n",
      "25         Dr. John Doe\n",
      "26          Dr. Mahmoud\n",
      "27                   mo\n",
      "Name: Doctor Name, dtype: object\n"
     ]
    }
   ],
   "source": [
    "import sqlite3\n",
    "import pandas as pd\n",
    "\n",
    "# Connect to the SQLite database\n",
    "conn = sqlite3.connect('hospital.db')\n",
    "\n",
    "# Query the Schedules table\n",
    "query = \"SELECT * FROM Schedules\"\n",
    "df = pd.read_sql_query(query, conn)\n",
    "\n",
    "# Display the data\n",
    "print(df['Doctor Name'])\n",
    "\n",
    "# Close the connection\n",
    "conn.close()"
   ]
  },
  {
   "cell_type": "code",
   "execution_count": null,
   "metadata": {},
   "outputs": [],
   "source": []
  }
 ],
 "metadata": {
  "kernelspec": {
   "display_name": "Python 3",
   "language": "python",
   "name": "python3"
  },
  "language_info": {
   "codemirror_mode": {
    "name": "ipython",
    "version": 3
   },
   "file_extension": ".py",
   "mimetype": "text/x-python",
   "name": "python",
   "nbconvert_exporter": "python",
   "pygments_lexer": "ipython3",
   "version": "3.12.7"
  }
 },
 "nbformat": 4,
 "nbformat_minor": 2
}
